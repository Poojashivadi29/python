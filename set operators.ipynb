{
 "cells": [
  {
   "cell_type": "markdown",
   "id": "4d105a11-2f7d-4ea7-a2f3-dc34234926fd",
   "metadata": {},
   "source": [
    "# set operetions"
   ]
  },
  {
   "cell_type": "code",
   "execution_count": 5,
   "id": "9798579a-f667-440b-abf7-4e9336af66e7",
   "metadata": {},
   "outputs": [],
   "source": [
    "a = {1,2,3,4}\n",
    "b = {4,5,6,7,8}\n",
    "c = {7,8,9,10}"
   ]
  },
  {
   "cell_type": "code",
   "execution_count": 13,
   "id": "5aba32a6-54e7-4e9d-b366-b7dc2e94facc",
   "metadata": {},
   "outputs": [
    {
     "data": {
      "text/plain": [
       "{1, 2, 3, 4, 5, 6, 7, 8}"
      ]
     },
     "execution_count": 13,
     "metadata": {},
     "output_type": "execute_result"
    }
   ],
   "source": [
    "a | b # (|) pipe or union, combine 2 sets and gives values without duplicates"
   ]
  },
  {
   "cell_type": "code",
   "execution_count": 15,
   "id": "9d6b62a3-3035-4a91-8497-c6937f42fe6a",
   "metadata": {},
   "outputs": [
    {
     "data": {
      "text/plain": [
       "{4, 5, 6, 7, 8, 9, 10}"
      ]
     },
     "execution_count": 15,
     "metadata": {},
     "output_type": "execute_result"
    }
   ],
   "source": [
    "b | c"
   ]
  },
  {
   "cell_type": "code",
   "execution_count": 17,
   "id": "3287411d-3466-403e-8d85-6089e1c2f441",
   "metadata": {},
   "outputs": [
    {
     "data": {
      "text/plain": [
       "{1, 2, 3, 4, 5, 6, 7, 8}"
      ]
     },
     "execution_count": 17,
     "metadata": {},
     "output_type": "execute_result"
    }
   ],
   "source": [
    "a.union(b)"
   ]
  },
  {
   "cell_type": "code",
   "execution_count": 53,
   "id": "cf08cebb-ab72-4b18-bd8d-86da61a5938a",
   "metadata": {},
   "outputs": [
    {
     "data": {
      "text/plain": [
       "{1, 2, 3, 4, 5, 6, 7, 8, 9, 10}"
      ]
     },
     "execution_count": 53,
     "metadata": {},
     "output_type": "execute_result"
    }
   ],
   "source": [
    "b.union(a,c) # (|) pipe or union, combine 2 sets and gives values without duplicates"
   ]
  },
  {
   "cell_type": "code",
   "execution_count": 59,
   "id": "73655674-3d04-4eee-95d9-70b129b54e6b",
   "metadata": {},
   "outputs": [],
   "source": [
    "a.update(b)"
   ]
  },
  {
   "cell_type": "code",
   "execution_count": 61,
   "id": "cc5d9182-e579-489e-9f01-3342704e459a",
   "metadata": {},
   "outputs": [
    {
     "data": {
      "text/plain": [
       "{4, 5, 6, 7, 8}"
      ]
     },
     "execution_count": 61,
     "metadata": {},
     "output_type": "execute_result"
    }
   ],
   "source": [
    "b"
   ]
  },
  {
   "cell_type": "code",
   "execution_count": 63,
   "id": "b20859b3-9d05-406b-96a6-5b83dcea7b98",
   "metadata": {},
   "outputs": [
    {
     "data": {
      "text/plain": [
       "{1, 2, 3, 4, 5, 6, 7, 8}"
      ]
     },
     "execution_count": 63,
     "metadata": {},
     "output_type": "execute_result"
    }
   ],
   "source": [
    "a"
   ]
  },
  {
   "cell_type": "code",
   "execution_count": 126,
   "id": "752d095b-3bf3-4f69-91a5-295d3833654c",
   "metadata": {},
   "outputs": [
    {
     "data": {
      "text/plain": [
       "{'pooja', 'raj', 'rajeshkar', 'shivadi'}"
      ]
     },
     "execution_count": 126,
     "metadata": {},
     "output_type": "execute_result"
    }
   ],
   "source": [
    "a1 = {'pooja','raj'}\n",
    "b1 = {'shivadi','rajeshkar'}\n",
    "a1.union(b1)"
   ]
  },
  {
   "cell_type": "code",
   "execution_count": 128,
   "id": "52330fba-02f9-41f8-a1fa-eef121982376",
   "metadata": {},
   "outputs": [
    {
     "data": {
      "text/plain": [
       "{'pooja', 'raj', 'rajeshkar', 'shivadi'}"
      ]
     },
     "execution_count": 128,
     "metadata": {},
     "output_type": "execute_result"
    }
   ],
   "source": [
    "a1.update(b1)\n",
    "a1"
   ]
  },
  {
   "cell_type": "code",
   "execution_count": 130,
   "id": "099f748e-5679-491a-a805-2b844c7814a0",
   "metadata": {},
   "outputs": [
    {
     "data": {
      "text/plain": [
       "4"
      ]
     },
     "execution_count": 130,
     "metadata": {},
     "output_type": "execute_result"
    }
   ],
   "source": [
    "len(a1)"
   ]
  },
  {
   "cell_type": "code",
   "execution_count": 75,
   "id": "a5d430d3-ec7a-4b8d-a1bb-108f91572b5e",
   "metadata": {},
   "outputs": [
    {
     "name": "stdout",
     "output_type": "stream",
     "text": [
      "{1, 2, 3, 4, 5, 6, 7, 8}\n",
      "{4, 5, 6, 7, 8}\n",
      "{8, 9, 10, 7}\n"
     ]
    }
   ],
   "source": [
    "print(a)\n",
    "print(b)\n",
    "print(c)"
   ]
  },
  {
   "cell_type": "code",
   "execution_count": 77,
   "id": "a45721c2-160d-42c5-b859-749c8ae14a07",
   "metadata": {},
   "outputs": [
    {
     "data": {
      "text/plain": [
       "{4, 5, 6, 7, 8}"
      ]
     },
     "execution_count": 77,
     "metadata": {},
     "output_type": "execute_result"
    }
   ],
   "source": [
    "a & b #print common elements"
   ]
  },
  {
   "cell_type": "code",
   "execution_count": 79,
   "id": "cb43c24a-41a7-47db-bb87-481ba96e4b9f",
   "metadata": {},
   "outputs": [
    {
     "data": {
      "text/plain": [
       "{7, 8}"
      ]
     },
     "execution_count": 79,
     "metadata": {},
     "output_type": "execute_result"
    }
   ],
   "source": [
    "b & c"
   ]
  },
  {
   "cell_type": "code",
   "execution_count": 92,
   "id": "9d695030-35de-4355-a90b-4591fff3907a",
   "metadata": {},
   "outputs": [
    {
     "data": {
      "text/plain": [
       "{7, 8}"
      ]
     },
     "execution_count": 92,
     "metadata": {},
     "output_type": "execute_result"
    }
   ],
   "source": [
    "c.intersection(b) #print common elements"
   ]
  },
  {
   "cell_type": "code",
   "execution_count": 94,
   "id": "61d9439a-e91d-454d-acb0-2caf000caffc",
   "metadata": {},
   "outputs": [
    {
     "name": "stdout",
     "output_type": "stream",
     "text": [
      "{1, 2, 3, 4, 5, 6, 7, 8}\n",
      "{4, 5, 6, 7, 8}\n",
      "{8, 9, 10, 7}\n"
     ]
    }
   ],
   "source": [
    "print(a)\n",
    "print(b)\n",
    "print(c)"
   ]
  },
  {
   "cell_type": "code",
   "execution_count": 98,
   "id": "a902d82e-bab9-41b8-8c69-ba099cbcd130",
   "metadata": {},
   "outputs": [],
   "source": [
    "a.intersection_update(b) #keeps only common elements in (a) remaning will delete"
   ]
  },
  {
   "cell_type": "code",
   "execution_count": 100,
   "id": "cab7bd8c-9caf-4b88-9b33-129eff19fc49",
   "metadata": {},
   "outputs": [
    {
     "data": {
      "text/plain": [
       "{4, 5, 6, 7, 8}"
      ]
     },
     "execution_count": 100,
     "metadata": {},
     "output_type": "execute_result"
    }
   ],
   "source": [
    "a"
   ]
  },
  {
   "cell_type": "code",
   "execution_count": 102,
   "id": "a9e48eb5-5864-45ad-b438-e198c476dd19",
   "metadata": {},
   "outputs": [
    {
     "data": {
      "text/plain": [
       "{4, 5, 6, 7, 8}"
      ]
     },
     "execution_count": 102,
     "metadata": {},
     "output_type": "execute_result"
    }
   ],
   "source": [
    "b"
   ]
  },
  {
   "cell_type": "code",
   "execution_count": 104,
   "id": "f0c68e52-982b-450c-8a0d-fea5cfcee0ac",
   "metadata": {},
   "outputs": [],
   "source": [
    "a2 = {1,2,3,4}\n",
    "b2 = {4,5,6,7,8}\n",
    "c2 = {7,8,9,10}"
   ]
  },
  {
   "cell_type": "code",
   "execution_count": 107,
   "id": "83f1070d-131c-491c-ac62-4aa2d5896b22",
   "metadata": {},
   "outputs": [
    {
     "data": {
      "text/plain": [
       "{1, 2, 3}"
      ]
     },
     "execution_count": 107,
     "metadata": {},
     "output_type": "execute_result"
    }
   ],
   "source": [
    "a2 - b2"
   ]
  },
  {
   "cell_type": "code",
   "execution_count": 109,
   "id": "954e660e-442e-4606-b68d-8bc609c7036d",
   "metadata": {},
   "outputs": [
    {
     "data": {
      "text/plain": [
       "{4, 5, 6}"
      ]
     },
     "execution_count": 109,
     "metadata": {},
     "output_type": "execute_result"
    }
   ],
   "source": [
    "b2.difference(c2)  # showes uncommon elements form b2"
   ]
  },
  {
   "cell_type": "code",
   "execution_count": 118,
   "id": "7475a034-d6c0-48d1-92c3-900288507170",
   "metadata": {},
   "outputs": [
    {
     "data": {
      "text/plain": [
       "{4, 5, 6, 7, 8}"
      ]
     },
     "execution_count": 118,
     "metadata": {},
     "output_type": "execute_result"
    }
   ],
   "source": [
    "b2"
   ]
  },
  {
   "cell_type": "code",
   "execution_count": 120,
   "id": "3b3d836d-077a-4fd7-b9d4-cd0a450174ce",
   "metadata": {},
   "outputs": [
    {
     "name": "stdout",
     "output_type": "stream",
     "text": [
      "{1, 2, 3, 4}\n",
      "{4, 5, 6, 7, 8}\n",
      "{8, 9, 10, 7}\n"
     ]
    }
   ],
   "source": [
    "print(a2)\n",
    "print(b2)\n",
    "print(c2)"
   ]
  },
  {
   "cell_type": "code",
   "execution_count": 124,
   "id": "917b041b-47aa-4415-930f-c227372fa475",
   "metadata": {},
   "outputs": [
    {
     "data": {
      "text/plain": [
       "{4, 5, 6}"
      ]
     },
     "execution_count": 124,
     "metadata": {},
     "output_type": "execute_result"
    }
   ],
   "source": [
    "b2.difference_update(c2)\n",
    "b2 #eleminates common element"
   ]
  },
  {
   "cell_type": "code",
   "execution_count": 145,
   "id": "9e70152b-93e1-43e5-98ec-21467c7a3a8b",
   "metadata": {},
   "outputs": [
    {
     "data": {
      "text/plain": [
       "{1, 2, 3, 5, 6}"
      ]
     },
     "execution_count": 145,
     "metadata": {},
     "output_type": "execute_result"
    }
   ],
   "source": [
    "a2.symmetric_difference(b2) #print umcommon elements from a2 and b2"
   ]
  },
  {
   "cell_type": "code",
   "execution_count": 147,
   "id": "c8dc4dbc-5249-404e-83d6-a863a7042501",
   "metadata": {},
   "outputs": [
    {
     "data": {
      "text/plain": [
       "{4, 5, 6, 7, 8, 9, 10}"
      ]
     },
     "execution_count": 147,
     "metadata": {},
     "output_type": "execute_result"
    }
   ],
   "source": [
    "b2.symmetric_difference(c2)"
   ]
  },
  {
   "cell_type": "code",
   "execution_count": 156,
   "id": "22add2d3-d2f8-4ce1-96ba-5de51a5dd9a5",
   "metadata": {},
   "outputs": [],
   "source": [
    "b2.symmetric_difference_update(c2) #updated un common elements in the variable"
   ]
  },
  {
   "cell_type": "code",
   "execution_count": 158,
   "id": "a79b969f-bb30-4ffb-836a-bf06509a07c5",
   "metadata": {},
   "outputs": [
    {
     "name": "stdout",
     "output_type": "stream",
     "text": [
      "{1, 2, 3, 4}\n",
      "{4, 5, 6}\n",
      "{8, 9, 10, 7}\n"
     ]
    }
   ],
   "source": [
    "print(a2)\n",
    "print(b2)\n",
    "print(c2)"
   ]
  },
  {
   "cell_type": "markdown",
   "id": "6d69a2fe-c4f9-49b2-a2e6-db2ecc3fc7ef",
   "metadata": {},
   "source": [
    "## "
   ]
  },
  {
   "cell_type": "code",
   "execution_count": null,
   "id": "9a228e07-1aaa-48eb-93c2-c892dd32017a",
   "metadata": {},
   "outputs": [],
   "source": [
    "a3 = {1,2,3,4,5,6,7,8}\n",
    "b3 = {3,4,5,6,7,8}\n",
    "c3 = {10,20,30,40,50}"
   ]
  },
  {
   "cell_type": "code",
   "execution_count": 173,
   "id": "4c704e1f-8ebc-44c3-aca8-bac127c2f129",
   "metadata": {},
   "outputs": [
    {
     "ename": "NameError",
     "evalue": "name 'a3' is not defined",
     "output_type": "error",
     "traceback": [
      "\u001b[1;31m---------------------------------------------------------------------------\u001b[0m",
      "\u001b[1;31mNameError\u001b[0m                                 Traceback (most recent call last)",
      "Cell \u001b[1;32mIn[173], line 1\u001b[0m\n\u001b[1;32m----> 1\u001b[0m \u001b[38;5;28mprint\u001b[39m(a3)\n\u001b[0;32m      2\u001b[0m \u001b[38;5;28mprint\u001b[39m(b3)\n\u001b[0;32m      3\u001b[0m \u001b[38;5;28mprint\u001b[39m(c3)\n",
      "\u001b[1;31mNameError\u001b[0m: name 'a3' is not defined"
     ]
    }
   ],
   "source": [
    "print(a3)\n",
    "print(b3)\n",
    "print(c3)"
   ]
  },
  {
   "cell_type": "code",
   "execution_count": 175,
   "id": "d0f03f8a-9ef9-47e3-b7c3-a6e23b8cfc1d",
   "metadata": {},
   "outputs": [
    {
     "ename": "NameError",
     "evalue": "name 'a3' is not defined",
     "output_type": "error",
     "traceback": [
      "\u001b[1;31m---------------------------------------------------------------------------\u001b[0m",
      "\u001b[1;31mNameError\u001b[0m                                 Traceback (most recent call last)",
      "Cell \u001b[1;32mIn[175], line 1\u001b[0m\n\u001b[1;32m----> 1\u001b[0m a3\n",
      "\u001b[1;31mNameError\u001b[0m: name 'a3' is not defined"
     ]
    }
   ],
   "source": [
    "a3"
   ]
  },
  {
   "cell_type": "code",
   "execution_count": 177,
   "id": "58aaa58b-5e0b-4afa-a766-a8188cd276e7",
   "metadata": {},
   "outputs": [],
   "source": [
    "a4 = {1,2,3,4,5,6,7,8}\n",
    "b4 = {3,4,5,6,7,8}\n",
    "c4 = {10,20,30,40,50}"
   ]
  },
  {
   "cell_type": "code",
   "execution_count": 179,
   "id": "72ae6175-5f07-4ef5-935d-bfc10a215d0e",
   "metadata": {},
   "outputs": [
    {
     "name": "stdout",
     "output_type": "stream",
     "text": [
      "{1, 2, 3, 4, 5, 6, 7, 8}\n",
      "{3, 4, 5, 6, 7, 8}\n",
      "{50, 20, 40, 10, 30}\n"
     ]
    }
   ],
   "source": [
    "print(a4)\n",
    "print(b4)\n",
    "print(c4)"
   ]
  },
  {
   "cell_type": "code",
   "execution_count": 189,
   "id": "4dfbaf48-778f-4d15-ba0b-72679aec7d33",
   "metadata": {},
   "outputs": [
    {
     "data": {
      "text/plain": [
       "True"
      ]
     },
     "execution_count": 189,
     "metadata": {},
     "output_type": "execute_result"
    }
   ],
   "source": [
    "b4.issubset(a4) # superset (a4), subset (b4), disjoint(c4)"
   ]
  },
  {
   "cell_type": "code",
   "execution_count": 191,
   "id": "4016d967-715e-436a-8f67-a9024bca875c",
   "metadata": {},
   "outputs": [
    {
     "data": {
      "text/plain": [
       "True"
      ]
     },
     "execution_count": 191,
     "metadata": {},
     "output_type": "execute_result"
    }
   ],
   "source": [
    "a4.issuperset(b4)"
   ]
  },
  {
   "cell_type": "code",
   "execution_count": 193,
   "id": "b2deda0b-4f73-43df-8e67-cb37bbd95aab",
   "metadata": {},
   "outputs": [
    {
     "data": {
      "text/plain": [
       "True"
      ]
     },
     "execution_count": 193,
     "metadata": {},
     "output_type": "execute_result"
    }
   ],
   "source": [
    "c4.isdisjoint(a4)"
   ]
  },
  {
   "cell_type": "code",
   "execution_count": null,
   "id": "30a12c93-b93c-4eba-bd42-f03198649b52",
   "metadata": {},
   "outputs": [],
   "source": []
  }
 ],
 "metadata": {
  "kernelspec": {
   "display_name": "Python 3 (ipykernel)",
   "language": "python",
   "name": "python3"
  },
  "language_info": {
   "codemirror_mode": {
    "name": "ipython",
    "version": 3
   },
   "file_extension": ".py",
   "mimetype": "text/x-python",
   "name": "python",
   "nbconvert_exporter": "python",
   "pygments_lexer": "ipython3",
   "version": "3.12.7"
  }
 },
 "nbformat": 4,
 "nbformat_minor": 5
}
