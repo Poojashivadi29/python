{
 "cells": [
  {
   "cell_type": "markdown",
   "id": "03760562-8b8a-403a-881c-593d04265c3a",
   "metadata": {},
   "source": [
    "# SET"
   ]
  },
  {
   "cell_type": "code",
   "execution_count": 24,
   "id": "ebf7178e-9541-45d9-a631-9769104ce40c",
   "metadata": {},
   "outputs": [
    {
     "data": {
      "text/plain": [
       "set"
      ]
     },
     "execution_count": 24,
     "metadata": {},
     "output_type": "execute_result"
    }
   ],
   "source": [
    "s1 = set()\n",
    "type(s1) # Need to define set"
   ]
  },
  {
   "cell_type": "code",
   "execution_count": 14,
   "id": "daba95d0-d9b0-42b1-993e-15aeae0fe6b8",
   "metadata": {},
   "outputs": [
    {
     "data": {
      "text/plain": [
       "{10, 22, 32, 47, 55, 99}"
      ]
     },
     "execution_count": 14,
     "metadata": {},
     "output_type": "execute_result"
    }
   ],
   "source": [
    "s1 = {10,55,22,32,47,99}\n",
    "s1 # always gives values in order format"
   ]
  },
  {
   "cell_type": "code",
   "execution_count": 18,
   "id": "714facd5-67f6-4ebf-a9f5-f52c1dd75bfc",
   "metadata": {},
   "outputs": [
    {
     "data": {
      "text/plain": [
       "{'a', 'j', 'o', 'p'}"
      ]
     },
     "execution_count": 18,
     "metadata": {},
     "output_type": "execute_result"
    }
   ],
   "source": [
    "s2 = {'p','o','o','j','a'}\n",
    "s2"
   ]
  },
  {
   "cell_type": "code",
   "execution_count": 20,
   "id": "b5685311-25a1-4139-982f-3f631732277f",
   "metadata": {},
   "outputs": [
    {
     "data": {
      "text/plain": [
       "{(1+2j), 5.7, 500, False, 'pooja'}"
      ]
     },
     "execution_count": 20,
     "metadata": {},
     "output_type": "execute_result"
    }
   ],
   "source": [
    "s3 = {1+2j,'pooja',500,False,5.7}\n",
    "s3"
   ]
  },
  {
   "cell_type": "code",
   "execution_count": 22,
   "id": "ee5da341-4fd3-415f-8ae5-87a89f9d1aee",
   "metadata": {},
   "outputs": [
    {
     "name": "stdout",
     "output_type": "stream",
     "text": [
      "{32, 99, 22, 55, 10, 47}\n",
      "{'p', 'o', 'a', 'j'}\n",
      "{False, 500, 5.7, (1+2j), 'pooja'}\n"
     ]
    }
   ],
   "source": [
    "print(s1)\n",
    "print(s2)\n",
    "print(s3)"
   ]
  },
  {
   "cell_type": "code",
   "execution_count": 36,
   "id": "8a406e15-b00b-4d0e-98f5-465aa24a6302",
   "metadata": {},
   "outputs": [
    {
     "data": {
      "text/plain": [
       "{10, 22, 32, 47, 55, 99}"
      ]
     },
     "execution_count": 36,
     "metadata": {},
     "output_type": "execute_result"
    }
   ],
   "source": [
    "s1 = {32, 99, 22, 55, 10, 47}\n",
    "s1"
   ]
  },
  {
   "cell_type": "code",
   "execution_count": 39,
   "id": "5e0ba991-c97e-44c6-ba6d-6f320f97a297",
   "metadata": {},
   "outputs": [
    {
     "data": {
      "text/plain": [
       "{10, 22, 29, 32, 47, 55, 99}"
      ]
     },
     "execution_count": 39,
     "metadata": {},
     "output_type": "execute_result"
    }
   ],
   "source": [
    "s1.add(29)\n",
    "s1"
   ]
  },
  {
   "cell_type": "code",
   "execution_count": 43,
   "id": "6a0c92a5-b99c-497d-aa8d-f27da6ac03cd",
   "metadata": {},
   "outputs": [
    {
     "data": {
      "text/plain": [
       "{10, 22, 29, 32, 47, 55, 99}"
      ]
     },
     "execution_count": 43,
     "metadata": {},
     "output_type": "execute_result"
    }
   ],
   "source": [
    "s4 = s1.copy()\n",
    "s4"
   ]
  },
  {
   "cell_type": "code",
   "execution_count": 45,
   "id": "6b5da956-e4e4-49b5-a5d3-c13acc8dd2ce",
   "metadata": {},
   "outputs": [
    {
     "ename": "SyntaxError",
     "evalue": "invalid syntax (277915613.py, line 1)",
     "output_type": "error",
     "traceback": [
      "\u001b[1;36m  Cell \u001b[1;32mIn[45], line 1\u001b[1;36m\u001b[0m\n\u001b[1;33m    s4{0}\u001b[0m\n\u001b[1;37m      ^\u001b[0m\n\u001b[1;31mSyntaxError\u001b[0m\u001b[1;31m:\u001b[0m invalid syntax\n"
     ]
    }
   ],
   "source": [
    "s4{0} # slicing and indexing is not allowed"
   ]
  },
  {
   "cell_type": "code",
   "execution_count": 50,
   "id": "2d2e84e1-6430-4765-a149-d19badf230f9",
   "metadata": {},
   "outputs": [],
   "source": [
    "s4.clear()"
   ]
  },
  {
   "cell_type": "code",
   "execution_count": 52,
   "id": "48a22aa4-5dcd-4b44-8a33-38e951047e90",
   "metadata": {},
   "outputs": [
    {
     "data": {
      "text/plain": [
       "set()"
      ]
     },
     "execution_count": 52,
     "metadata": {},
     "output_type": "execute_result"
    }
   ],
   "source": [
    "s4"
   ]
  },
  {
   "cell_type": "code",
   "execution_count": 54,
   "id": "d7d363a6-8278-4f63-b51a-75c907e18615",
   "metadata": {},
   "outputs": [
    {
     "data": {
      "text/plain": [
       "0"
      ]
     },
     "execution_count": 54,
     "metadata": {},
     "output_type": "execute_result"
    }
   ],
   "source": [
    "len(s4)"
   ]
  },
  {
   "cell_type": "code",
   "execution_count": 56,
   "id": "2713f8dc-8022-4106-894a-1ef028ff2329",
   "metadata": {},
   "outputs": [
    {
     "data": {
      "text/plain": [
       "1655216720128"
      ]
     },
     "execution_count": 56,
     "metadata": {},
     "output_type": "execute_result"
    }
   ],
   "source": [
    "id(s4)"
   ]
  },
  {
   "cell_type": "code",
   "execution_count": 70,
   "id": "eb7c061b-7a74-4e74-afd7-3d3a46c88d12",
   "metadata": {},
   "outputs": [],
   "source": [
    "s4 = s1.copy()"
   ]
  },
  {
   "cell_type": "code",
   "execution_count": 72,
   "id": "5a371e3b-4c3e-452b-8bed-d77d9924f3ca",
   "metadata": {},
   "outputs": [
    {
     "data": {
      "text/plain": [
       "{10, 22, 29, 32, 47, 55, 99}"
      ]
     },
     "execution_count": 72,
     "metadata": {},
     "output_type": "execute_result"
    }
   ],
   "source": [
    "s4"
   ]
  },
  {
   "cell_type": "code",
   "execution_count": 74,
   "id": "e5e6e7c7-17c5-41af-a32b-aa4f90e73474",
   "metadata": {},
   "outputs": [
    {
     "data": {
      "text/plain": [
       "{'a', 'j', 'o', 'p'}"
      ]
     },
     "execution_count": 74,
     "metadata": {},
     "output_type": "execute_result"
    }
   ],
   "source": [
    "s5 = s2.copy()\n",
    "s5"
   ]
  },
  {
   "cell_type": "code",
   "execution_count": 76,
   "id": "08d2fbb7-bb66-4c50-996b-f772537e81f6",
   "metadata": {},
   "outputs": [
    {
     "data": {
      "text/plain": [
       "1655216728864"
      ]
     },
     "execution_count": 76,
     "metadata": {},
     "output_type": "execute_result"
    }
   ],
   "source": [
    "id(s4)"
   ]
  },
  {
   "cell_type": "code",
   "execution_count": 78,
   "id": "2f393e80-8db4-4d0e-99b7-04bafc6df8ab",
   "metadata": {},
   "outputs": [],
   "source": [
    "s4.clear()"
   ]
  },
  {
   "cell_type": "code",
   "execution_count": 80,
   "id": "1f05dcf7-dddd-4f40-8f24-6f8877fc8b2f",
   "metadata": {},
   "outputs": [
    {
     "data": {
      "text/plain": [
       "1655216728864"
      ]
     },
     "execution_count": 80,
     "metadata": {},
     "output_type": "execute_result"
    }
   ],
   "source": [
    "id(s4)"
   ]
  },
  {
   "cell_type": "code",
   "execution_count": 86,
   "id": "258ff55b-4e10-4a45-94f0-a2757b66e412",
   "metadata": {},
   "outputs": [
    {
     "data": {
      "text/plain": [
       "0"
      ]
     },
     "execution_count": 86,
     "metadata": {},
     "output_type": "execute_result"
    }
   ],
   "source": [
    "len(s4)"
   ]
  },
  {
   "cell_type": "code",
   "execution_count": 98,
   "id": "ea12e439-5432-4b04-a6c5-56ad40cd3c0e",
   "metadata": {},
   "outputs": [],
   "source": [
    "del(s4)"
   ]
  },
  {
   "cell_type": "code",
   "execution_count": 100,
   "id": "f4a77e49-8699-4216-bdf9-be7112dfb3bf",
   "metadata": {},
   "outputs": [
    {
     "ename": "NameError",
     "evalue": "name 's4' is not defined",
     "output_type": "error",
     "traceback": [
      "\u001b[1;31m---------------------------------------------------------------------------\u001b[0m",
      "\u001b[1;31mNameError\u001b[0m                                 Traceback (most recent call last)",
      "Cell \u001b[1;32mIn[100], line 1\u001b[0m\n\u001b[1;32m----> 1\u001b[0m s4\n",
      "\u001b[1;31mNameError\u001b[0m: name 's4' is not defined"
     ]
    }
   ],
   "source": [
    "s4"
   ]
  },
  {
   "cell_type": "code",
   "execution_count": 102,
   "id": "183eff87-5cf3-4dda-b6d0-d2ff8c9e95e4",
   "metadata": {},
   "outputs": [
    {
     "data": {
      "text/plain": [
       "{(1+2j), 5.7, 500, False, 'pooja'}"
      ]
     },
     "execution_count": 102,
     "metadata": {},
     "output_type": "execute_result"
    }
   ],
   "source": [
    "s3"
   ]
  },
  {
   "cell_type": "code",
   "execution_count": 104,
   "id": "a1c495bc-254d-4c7e-b78e-c645b6d98ec3",
   "metadata": {},
   "outputs": [
    {
     "data": {
      "text/plain": [
       "{(1+2j), 5.7, False, 'pooja'}"
      ]
     },
     "execution_count": 104,
     "metadata": {},
     "output_type": "execute_result"
    }
   ],
   "source": [
    "s3.remove(500)\n",
    "s3"
   ]
  },
  {
   "cell_type": "code",
   "execution_count": 106,
   "id": "5d04ccdf-0620-4e5e-9e5a-c0f14cc25c2b",
   "metadata": {},
   "outputs": [
    {
     "data": {
      "text/plain": [
       "False"
      ]
     },
     "execution_count": 106,
     "metadata": {},
     "output_type": "execute_result"
    }
   ],
   "source": [
    "s3.pop()"
   ]
  },
  {
   "cell_type": "code",
   "execution_count": 108,
   "id": "b632ab7e-05a1-4d69-9650-79cd864172ea",
   "metadata": {},
   "outputs": [
    {
     "data": {
      "text/plain": [
       "5.7"
      ]
     },
     "execution_count": 108,
     "metadata": {},
     "output_type": "execute_result"
    }
   ],
   "source": [
    "s3.pop()"
   ]
  },
  {
   "cell_type": "code",
   "execution_count": 110,
   "id": "6bc4217a-05ab-4a95-9972-a6688b1e5f99",
   "metadata": {},
   "outputs": [
    {
     "data": {
      "text/plain": [
       "{(1+2j), 'pooja'}"
      ]
     },
     "execution_count": 110,
     "metadata": {},
     "output_type": "execute_result"
    }
   ],
   "source": [
    "s3"
   ]
  },
  {
   "cell_type": "code",
   "execution_count": 114,
   "id": "baa7d20b-2249-4e78-9f14-3034bc5be5cf",
   "metadata": {},
   "outputs": [
    {
     "ename": "TypeError",
     "evalue": "set.pop() takes no arguments (1 given)",
     "output_type": "error",
     "traceback": [
      "\u001b[1;31m---------------------------------------------------------------------------\u001b[0m",
      "\u001b[1;31mTypeError\u001b[0m                                 Traceback (most recent call last)",
      "Cell \u001b[1;32mIn[114], line 1\u001b[0m\n\u001b[1;32m----> 1\u001b[0m s3\u001b[38;5;241m.\u001b[39mpop(\u001b[38;5;241m0\u001b[39m)\n",
      "\u001b[1;31mTypeError\u001b[0m: set.pop() takes no arguments (1 given)"
     ]
    }
   ],
   "source": [
    "s3.pop(0)"
   ]
  },
  {
   "cell_type": "code",
   "execution_count": null,
   "id": "37336e3f-c832-46c9-a8e7-a51d2af50fb6",
   "metadata": {},
   "outputs": [],
   "source": []
  }
 ],
 "metadata": {
  "kernelspec": {
   "display_name": "Python 3 (ipykernel)",
   "language": "python",
   "name": "python3"
  },
  "language_info": {
   "codemirror_mode": {
    "name": "ipython",
    "version": 3
   },
   "file_extension": ".py",
   "mimetype": "text/x-python",
   "name": "python",
   "nbconvert_exporter": "python",
   "pygments_lexer": "ipython3",
   "version": "3.12.7"
  }
 },
 "nbformat": 4,
 "nbformat_minor": 5
}
